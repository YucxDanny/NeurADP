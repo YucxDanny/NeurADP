{
 "cells": [
  {
   "cell_type": "code",
   "execution_count": 1,
   "metadata": {},
   "outputs": [
    {
     "name": "stdout",
     "output_type": "stream",
     "text": [
      "最优值为：18.80\n",
      "x的取值为：1.60\n",
      "y的取值为：5.20\n"
     ]
    }
   ],
   "source": [
    "# 导入docplex\n",
    "from docplex.mp.model import Model\n",
    "\n",
    "# 创建模型对象\n",
    "cplex_obj = Model()\n",
    "# 添加变量\n",
    "x = cplex_obj.continuous_var(name=\"x\")\n",
    "y = cplex_obj.continuous_var(name=\"y\")\n",
    "# 添加约束\n",
    "cplex_obj.add_constraint(3 * x + y <= 10)\n",
    "cplex_obj.add_constraint(x + 2 * y <= 12)\n",
    "# 添加目标函数\n",
    "cplex_obj.maximize(2 * x + 3 * y)\n",
    "# 求解优化问题\n",
    "solution = cplex_obj.solve()\n",
    "# 获取结果\n",
    "if solution:\n",
    "    print(f\"最优值为：{cplex_obj.objective_value:.2f}\")\n",
    "    print(f\"x的取值为：{x.solution_value:.2f}\")\n",
    "    print(f\"y的取值为：{y.solution_value:.2f}\")\n",
    "else:\n",
    "    print(\"求解失败\")"
   ]
  },
  {
   "cell_type": "code",
   "execution_count": null,
   "metadata": {},
   "outputs": [],
   "source": []
  }
 ],
 "metadata": {
  "kernelspec": {
   "display_name": "NeurADP",
   "language": "python",
   "name": "python3"
  },
  "language_info": {
   "codemirror_mode": {
    "name": "ipython",
    "version": 3
   },
   "file_extension": ".py",
   "mimetype": "text/x-python",
   "name": "python",
   "nbconvert_exporter": "python",
   "pygments_lexer": "ipython3",
   "version": "3.7.12"
  }
 },
 "nbformat": 4,
 "nbformat_minor": 2
}
